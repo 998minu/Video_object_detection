{
  "nbformat": 4,
  "nbformat_minor": 0,
  "metadata": {
    "colab": {
      "private_outputs": true,
      "provenance": []
    },
    "kernelspec": {
      "name": "python3",
      "display_name": "Python 3"
    },
    "language_info": {
      "name": "python"
    }
  },
  "cells": [
    {
      "cell_type": "code",
      "execution_count": null,
      "metadata": {
        "id": "jRAL_yVe9p9_"
      },
      "outputs": [],
      "source": [
        "name=\"minu\"\n",
        "print(\"hello \" + name)"
      ]
    },
    {
      "cell_type": "code",
      "source": [
        "age=22\n",
        "age+=2\n",
        "print(age)"
      ],
      "metadata": {
        "id": "gBEZhZ1IC3in"
      },
      "execution_count": null,
      "outputs": []
    },
    {
      "cell_type": "code",
      "source": [
        "print(\"your age is \"+str(age) +\" and your name is \"+name)"
      ],
      "metadata": {
        "id": "OSigHKjnn3g5"
      },
      "execution_count": null,
      "outputs": []
    },
    {
      "cell_type": "code",
      "source": [
        "height=25.6\n",
        "print(type(height))\n",
        "print(\"your height is \" +str(height)+\"cm\")"
      ],
      "metadata": {
        "id": "3IH3zU2Kn3jl"
      },
      "execution_count": null,
      "outputs": []
    },
    {
      "cell_type": "code",
      "source": [
        "print(name)\n",
        "print(len(name))\n",
        "print(name.find(\"i\"))\n",
        "print(name.capitalize())\n",
        "print(name.upper())\n",
        "print(name.lower())\n",
        "print(name.replace(\"u\",\"i\"))"
      ],
      "metadata": {
        "id": "NGX7tHFLn3mR"
      },
      "execution_count": null,
      "outputs": []
    },
    {
      "cell_type": "code",
      "source": [
        "def string_length(string):\n",
        "  count=0\n",
        "  for char in string:\n",
        "    count+=1\n",
        "  return count\n",
        "\n",
        "input_string=\"Hello  world\"\n",
        "print(\"Length of string\", string_length(input_string))"
      ],
      "metadata": {
        "id": "PNzUaZikn3o2"
      },
      "execution_count": null,
      "outputs": []
    },
    {
      "cell_type": "code",
      "source": [
        "def find_char(string,char):\n",
        "  found=False\n",
        "  for i in range(len(string)):\n",
        "    if string[i]==char:\n",
        "      found=True\n",
        "      print(f\"character '{char}' found at index{1}\")\n",
        "      break\n",
        "    else:\n",
        "      found=False\n",
        "string=\"hello world\"\n",
        "find=\"l\"\n",
        "find_char(string, find)\n"
      ],
      "metadata": {
        "id": "vpMm_We_n3rr"
      },
      "execution_count": null,
      "outputs": []
    },
    {
      "cell_type": "code",
      "source": [],
      "metadata": {
        "id": "zj1uykNDbPBc"
      },
      "execution_count": null,
      "outputs": []
    },
    {
      "cell_type": "code",
      "source": [],
      "metadata": {
        "id": "tHNSUAHvbO2F"
      },
      "execution_count": null,
      "outputs": []
    },
    {
      "cell_type": "code",
      "source": [],
      "metadata": {
        "id": "zjKvYGg7bOlK"
      },
      "execution_count": null,
      "outputs": []
    },
    {
      "cell_type": "code",
      "source": [],
      "metadata": {
        "id": "zG5CAecJbOap"
      },
      "execution_count": null,
      "outputs": []
    },
    {
      "cell_type": "code",
      "source": [],
      "metadata": {
        "id": "aZLeuDOsbOUw"
      },
      "execution_count": null,
      "outputs": []
    },
    {
      "cell_type": "code",
      "source": [],
      "metadata": {
        "id": "7H0tefiHbOR-"
      },
      "execution_count": null,
      "outputs": []
    }
  ]
}